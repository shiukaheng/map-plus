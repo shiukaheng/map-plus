{
 "cells": [
  {
   "cell_type": "code",
   "execution_count": 1,
   "metadata": {},
   "outputs": [
    {
     "name": "stdout",
     "output_type": "stream",
     "text": [
      "M+ dataset found.\n",
      "Scraped images not found. Fetching images.\n"
     ]
    }
   ],
   "source": [
    "import raw_data\n",
    "import preprocessing\n",
    "import deep_features\n",
    "import pandas as pd\n",
    "import numpy as np\n",
    "\n",
    "pd.set_option('display.max_columns', None)\n",
    "objects, constituents = raw_data.load_dataset() # Load / download the raw data\n",
    "# prepped = preprocessing.preprocess(objects.iloc[:5], constituents) # Preprocess the raw data for use in the UMAP algorithm"
   ]
  },
  {
   "cell_type": "code",
   "execution_count": 2,
   "metadata": {},
   "outputs": [],
   "source": [
    "flattened, filtered = preprocessing.preprocess(objects, constituents) # Preprocess the raw data for use in the UMAP algorithm"
   ]
  },
  {
   "cell_type": "code",
   "execution_count": 4,
   "metadata": {},
   "outputs": [
    {
     "data": {
      "text/plain": [
       "(5, 2306)"
      ]
     },
     "execution_count": 4,
     "metadata": {},
     "output_type": "execute_result"
    }
   ],
   "source": []
  },
  {
   "cell_type": "code",
   "execution_count": null,
   "metadata": {},
   "outputs": [],
   "source": []
  }
 ],
 "metadata": {
  "kernelspec": {
   "display_name": "Python 3.8.13 ('map-plus')",
   "language": "python",
   "name": "python3"
  },
  "language_info": {
   "codemirror_mode": {
    "name": "ipython",
    "version": 3
   },
   "file_extension": ".py",
   "mimetype": "text/x-python",
   "name": "python",
   "nbconvert_exporter": "python",
   "pygments_lexer": "ipython3",
   "version": "3.8.13"
  },
  "orig_nbformat": 4,
  "vscode": {
   "interpreter": {
    "hash": "71d927f5e5c20a6c24592274c32db3671353c84455ff387a31a8d0d59399832f"
   }
  }
 },
 "nbformat": 4,
 "nbformat_minor": 2
}
