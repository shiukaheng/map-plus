{
 "cells": [
  {
   "cell_type": "code",
   "execution_count": 3,
   "metadata": {},
   "outputs": [
    {
     "name": "stdout",
     "output_type": "stream",
     "text": [
      "M+ dataset found.\n",
      "Scraped images not found. Fetching images.\n"
     ]
    }
   ],
   "source": [
    "import raw_data\n",
    "import preprocessing\n",
    "import deep_features\n",
    "import pandas as pd\n",
    "import numpy as np\n",
    "import mapify\n",
    "import export\n",
    "\n",
    "pd.set_option('display.max_columns', None)\n",
    "objects, constituents = raw_data.load_dataset() # Load / download the raw data"
   ]
  },
  {
   "cell_type": "code",
   "execution_count": 4,
   "metadata": {},
   "outputs": [],
   "source": [
    "flattened, filtered = preprocessing.preprocess(objects, constituents) # Preprocess the raw data for use in the UMAP algorithm\n",
    "# Takes around a minute on macbook pro. Sit down and relax!"
   ]
  },
  {
   "cell_type": "code",
   "execution_count": 5,
   "metadata": {},
   "outputs": [],
   "source": [
    "x, y, z = mapify.mapify(flattened) # Mapify the preprocessed data\n",
    "# 1 minute again."
   ]
  },
  {
   "cell_type": "code",
   "execution_count": 6,
   "metadata": {},
   "outputs": [],
   "source": [
    "# Combine the x, y, z coordinates into a single array\n",
    "combined = filtered.copy()\n",
    "combined[\"mapify_x\"] = x\n",
    "combined[\"mapify_y\"] = y\n",
    "combined[\"mapify_z\"] = z"
   ]
  },
  {
   "cell_type": "code",
   "execution_count": 6,
   "metadata": {},
   "outputs": [
    {
     "name": "stdout",
     "output_type": "stream",
     "text": [
      "Exported to: ../exported/combined.csv\n"
     ]
    }
   ],
   "source": [
    "# Export to csv\n",
    "export.export_csv(combined)"
   ]
  },
  {
   "cell_type": "code",
   "execution_count": 8,
   "metadata": {},
   "outputs": [],
   "source": [
    "export.export_json(combined)"
   ]
  }
 ],
 "metadata": {
  "kernelspec": {
   "display_name": "Python 3.8.13 ('map-plus')",
   "language": "python",
   "name": "python3"
  },
  "language_info": {
   "codemirror_mode": {
    "name": "ipython",
    "version": 3
   },
   "file_extension": ".py",
   "mimetype": "text/x-python",
   "name": "python",
   "nbconvert_exporter": "python",
   "pygments_lexer": "ipython3",
   "version": "3.8.13"
  },
  "orig_nbformat": 4,
  "vscode": {
   "interpreter": {
    "hash": "71d927f5e5c20a6c24592274c32db3671353c84455ff387a31a8d0d59399832f"
   }
  }
 },
 "nbformat": 4,
 "nbformat_minor": 2
}
